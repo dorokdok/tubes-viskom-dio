{
 "cells": [
  {
   "cell_type": "markdown",
   "metadata": {},
   "source": [
    "***Dio Navialdy 1301204001***\n",
    "\n",
    "Paper: https://arxiv.org/pdf/2310.16742v1.pdf\n",
    "\n",
    "Code: https://github.com/ArunSehrawat/Interferometric-Neural-Networks/tree/main"
   ]
  },
  {
   "cell_type": "code",
   "execution_count": 1,
   "metadata": {},
   "outputs": [
    {
     "name": "stderr",
     "output_type": "stream",
     "text": [
      "c:\\ProgramData\\Miniconda3\\lib\\site-packages\\torchvision\\io\\image.py:13: UserWarning: Failed to load image Python extension: 'Could not find module 'C:\\ProgramData\\Miniconda3\\Lib\\site-packages\\torchvision\\image.pyd' (or one of its dependencies). Try using the full path with constructor syntax.'If you don't plan on using image functionality from `torchvision.io`, you can ignore this warning. Otherwise, there might be something wrong with your environment. Did you have `libjpeg` or `libpng` installed before building `torchvision` from source?\n",
      "  warn(\n"
     ]
    }
   ],
   "source": [
    "import numpy as np\n",
    "import matplotlib.pyplot as plt\n",
    "\n",
    "import time, copy\n",
    "\n",
    "import torch\n",
    "from torch import nn\n",
    "import torch.nn.functional as F\n",
    "from torch.utils.data import DataLoader\n",
    "from torchvision import datasets, transforms\n",
    "\n",
    "from sklearn.metrics import classification_report, confusion_matrix, accuracy_score, roc_auc_score, f1_score\n",
    "\n",
    "\n",
    "# setting random seeds for reproducibility of results\n",
    "torch.manual_seed(0)\n",
    "np.random.seed(0)"
   ]
  },
  {
   "cell_type": "markdown",
   "metadata": {},
   "source": [
    "Load Dataset"
   ]
  },
  {
   "cell_type": "code",
   "execution_count": 2,
   "metadata": {},
   "outputs": [
    {
     "name": "stdout",
     "output_type": "stream",
     "text": [
      "image Hight = image Width = 28\n",
      "img_HW**2 = dimension of the Hilbert space = d = 784 \n",
      "\n",
      "number of (train, test) examples = (124800, 20800)\n",
      "number of classes = 27\n"
     ]
    }
   ],
   "source": [
    "img_HW = 28           \n",
    "d = img_HW**2   \n",
    "\n",
    "print(f'image Hight = image Width = {img_HW}')\n",
    "print(f'img_HW**2 = dimension of the Hilbert space = d = {d} \\n')\n",
    "\n",
    "#================================================================================================\n",
    "\n",
    "transform = transforms.Compose([ \n",
    "    transforms.Resize((img_HW, img_HW)),                          # resize image \n",
    "    transforms.ToTensor(),                                        # to transform an image into a tensor\n",
    "    transforms.Normalize(mean=(0.5,), std=(0.5,))                 # to put all the values between -1 and 1\n",
    "])\n",
    "\n",
    "##Dataset CIFAR10\n",
    "train_dataset = datasets.EMNIST(root='',split='letters', \n",
    "                                       train=True, download=True, transform=transform)\n",
    "test_dataset = datasets.EMNIST(root='',split='letters',  \n",
    "                                      train=False, download=True, transform=transform)\n",
    "#================================================================================================\n",
    "\n",
    "print(f'number of (train, test) examples = {len(train_dataset), len(test_dataset)}')\n",
    "\n",
    "print(f'number of classes = {27}')\n",
    "\n",
    "classes = list(range(27))"
   ]
  },
  {
   "cell_type": "code",
   "execution_count": 3,
   "metadata": {},
   "outputs": [
    {
     "name": "stdout",
     "output_type": "stream",
     "text": [
      "x of torch.Size([1, 28, 28]) :\n"
     ]
    },
    {
     "data": {
      "image/png": "[encoded data removed]",
      "text/plain": [
       "<Figure size 640x480 with 1 Axes>"
      ]
     },
     "metadata": {},
     "output_type": "display_data"
    },
    {
     "name": "stdout",
     "output_type": "stream",
     "text": [
      "true label = y = 13\n",
      "\n",
      "(x_min, x_max) = (-1.0, 1)\n"
     ]
    }
   ],
   "source": [
    "idx = np.random.choice(len(train_dataset))\n",
    "\n",
    "x = train_dataset[idx][0]\n",
    "print(f'x of {x.shape} :')\n",
    "\n",
    "plt.imshow(x[0], cmap='gray')\n",
    "plt.show()\n",
    "\n",
    "print(f'true label = y = {train_dataset[idx][1]}\\n')\n",
    "\n",
    "print(f'(x_min, x_max) = {x.min().item(), round(x.max().item(),)}')"
   ]
  },
  {
   "cell_type": "markdown",
   "metadata": {},
   "source": [
    "Define Quantum Machine Learning (QML) model : Interferometric Neural Network (INN)"
   ]
  },
  {
   "cell_type": "code",
   "execution_count": 4,
   "metadata": {},
   "outputs": [],
   "source": [
    "class parallel_interferometers(nn.Module):\n",
    "    def __init__(self, dim_out, dim_in):\n",
    "        super(parallel_interferometers, self).__init__()\n",
    "        \n",
    "        self.dim_out = dim_out                                            # output dimention \n",
    "        self.dim_in = dim_in                                              # input dimention \n",
    "                                          \n",
    "        torch.manual_seed(1)                         # setting a specific seed for reproducibility of results\n",
    "        phases = torch.randn((1, dim_out, dim_in), dtype=torch.float)     # Initialize learnable phases \n",
    "        nn.init.xavier_uniform_(phases)     \n",
    "        self.phases = nn.Parameter(phases) \n",
    "        \n",
    "        \n",
    "    def forward(self, x):                          # x.shape = (batch_size, 1 or dim_out, dim_in) \n",
    "        x = x * torch.exp(1j * self.phases)        # Perform dim_out parallel phase shifters\n",
    "        x = torch.fft.fft(x, norm='ortho')         # Perform parallel 1D Fast Fourier Transforms (beamsplitters)\n",
    "        return x                                   # x.shape = (batch_size, dim_out, dim_in)"
   ]
  },
  {
   "cell_type": "code",
   "execution_count": 5,
   "metadata": {},
   "outputs": [],
   "source": [
    "class interferometric_block(nn.Module):                                      \n",
    "    def __init__(self, dim_out, dim_in, L, channels=1):                 \n",
    "        super(interferometric_block, self).__init__()\n",
    "        \n",
    "        self.dim_out = dim_out                                            # output dimention \n",
    "        self.dim_in = dim_in                                              # input dimention \n",
    "        self.L = L                                                        # number of quantum layers\n",
    "        self.channels = channels\n",
    "        \n",
    "        self.phase_filters_layers = nn.ModuleList([parallel_interferometers(dim_out, dim_in) for _ in range(L)])\n",
    "        \n",
    "        \n",
    "    def forward(self, x):\n",
    "        x = x.view(-1, self.channels, self.dim_in)\n",
    "        \n",
    "        x = F.normalize(x, dim=-1)           # amplitude encodings  x -->  |x>\n",
    "        \n",
    "        #------------------------------------------------------------------------------------ \n",
    "        \n",
    "        x = torch.fft.fft(x, norm='ortho')   # First ID Fast Fourier Transforms (beamsplitters)\n",
    "        \n",
    "        for phase_filters in self.phase_filters_layers:\n",
    "            x = phase_filters(x)\n",
    "            \n",
    "         #------------------------------------------------------------------------------------\n",
    "            \n",
    "        x = x*(x.conj())                     # measurement in the computational basis and getting probabilities \n",
    "        x = torch.real(x)                    # dropping the imaginary components 0j\n",
    "\n",
    "        x = x[:,:,0]                         # probability of getting 0 outcome from each sequence\n",
    "    \n",
    "        return x \n",
    "    "
   ]
  },
  {
   "cell_type": "code",
   "execution_count": 6,
   "metadata": {},
   "outputs": [],
   "source": [
    "class INN(nn.Module):                               # Define QML model = Interferometric Neural Network (INN)\n",
    "    def __init__(self, dims, Ls):                                \n",
    "        super(INN, self).__init__()\n",
    "        \n",
    "        self.dims = dims                            # dimension of a feature vector before or after a block\n",
    "        self.Ls = Ls                                # number of quantum layers in a block\n",
    "        self.M = len(dims) - 1                      # number of blocks = M\n",
    "        \n",
    "        \n",
    "        self.blocks = nn.ModuleList()               # Initialize an empty ModuleList\n",
    "        \n",
    "        for i in range(self.M-1):\n",
    "            self.blocks.append(interferometric_block(dim_out=dims[i+1], dim_in=dims[i], L=Ls[i]))\n",
    "        \n",
    "        self.last_block = interferometric_block(dim_out=dims[-1], dim_in=dims[-2], L=Ls[-1])\n",
    "        \n",
    "        \n",
    "    def forward(self, x):  \n",
    "        \n",
    "        for block in self.blocks:\n",
    "            x = block(x)\n",
    "            \n",
    "        x = self.last_block(x)\n",
    "        \n",
    "        return x "
   ]
  },
  {
   "cell_type": "markdown",
   "metadata": {},
   "source": [
    "Hyperparameter"
   ]
  },
  {
   "cell_type": "code",
   "execution_count": 7,
   "metadata": {},
   "outputs": [
    {
     "name": "stdout",
     "output_type": "stream",
     "text": [
      "device = cpu\n",
      "image Hight = image Width = 28\n",
      "dimension of the Hilbert space = d = 784\n",
      "\n",
      "dimension of a feature vector after a block = [784, 32, 27]\n",
      "number of quantum layers in a block = [2, 2]\n",
      "number of learnable (parameters) phases in the model = 51904\n",
      "\n",
      "number of batches = 3900, batch_size = 32\n",
      "\n"
     ]
    }
   ],
   "source": [
    "device = \"cuda\" if torch.cuda.is_available() else \"cpu\"\n",
    "print(f'device = {device}')\n",
    "torch.set_num_threads(8)                                             # it is for reproducibility of results\n",
    "\n",
    "#==================================================================\n",
    "\n",
    "print(f'image Hight = image Width = {img_HW}')\n",
    "print(f'dimension of the Hilbert space = d = {d}\\n')\n",
    "\n",
    "\n",
    "\n",
    "dims = [d, 2**5, 27]\n",
    "Ls = [2,2]                                           # set Ls = [2,2] or Ls = [1, 1] to get our reported Results\n",
    "print(f'dimension of a feature vector after a block = {dims}')\n",
    "print(f'number of quantum layers in a block = {Ls}')\n",
    "\n",
    "num_phases = int(np.sum(np.array(dims[:-1]) * Ls * dims[1:]))\n",
    "print(f'number of learnable (parameters) phases in the model = {num_phases}\\n')\n",
    "\n",
    "#---------------------------------------------------------------\n",
    "# optimizer Adam's hyperparameters\n",
    "\n",
    "lr = 1e-2\n",
    "\n",
    "b1 = 0.5\n",
    "b2 = 0.9\n",
    "\n",
    "#==================================================================\n",
    "\n",
    "batch_size = 2**5\n",
    "epochs = 3\n",
    "\n",
    "train_dataloader = DataLoader(train_dataset, batch_size=batch_size, shuffle=True)\n",
    "num_batches = len(train_dataloader)\n",
    "print(f'number of batches = {num_batches}, batch_size = {batch_size}\\n')\n",
    "\n",
    "test_dataloader = DataLoader(test_dataset, batch_size=batch_size, shuffle=True)"
   ]
  },
  {
   "cell_type": "markdown",
   "metadata": {},
   "source": [
    "Training"
   ]
  },
  {
   "cell_type": "code",
   "execution_count": 8,
   "metadata": {},
   "outputs": [
    {
     "name": "stdout",
     "output_type": "stream",
     "text": [
      "\n",
      "Epoch  0 ---------------------------------- \n",
      "\n",
      "after    0 batch      train loss: 3.2959\n",
      "after  200 batch      train loss: 3.0678\n",
      "after  400 batch      train loss: 2.9588\n",
      "after  600 batch      train loss: 2.8243\n",
      "after  800 batch      train loss: 2.9802\n",
      "after 1000 batch      train loss: 2.8063\n",
      "after 1200 batch      train loss: 2.8044\n",
      "after 1400 batch      train loss: 2.8071\n",
      "after 1600 batch      train loss: 2.8249\n",
      "after 1800 batch      train loss: 2.6933\n",
      "after 2000 batch      train loss: 2.6631\n",
      "after 2200 batch      train loss: 2.7346\n",
      "after 2400 batch      train loss: 2.8099\n",
      "after 2600 batch      train loss: 2.7714\n",
      "after 2800 batch      train loss: 2.7086\n",
      "after 3000 batch      train loss: 2.7397\n",
      "after 3200 batch      train loss: 2.7936\n",
      "after 3400 batch      train loss: 2.6764\n",
      "after 3600 batch      train loss: 2.6736\n",
      "after 3800 batch      train loss: 2.6958\n",
      "\n",
      "Epoch  1 ---------------------------------- \n",
      "\n",
      "after    0 batch      train loss: 2.7547\n",
      "after  200 batch      train loss: 2.7169\n",
      "after  400 batch      train loss: 2.7113\n",
      "after  600 batch      train loss: 2.6767\n",
      "after  800 batch      train loss: 2.6913\n",
      "after 1000 batch      train loss: 2.7509\n",
      "after 1200 batch      train loss: 2.7295\n",
      "after 1400 batch      train loss: 2.6653\n",
      "after 1600 batch      train loss: 2.6771\n",
      "after 1800 batch      train loss: 2.7373\n",
      "after 2000 batch      train loss: 2.6314\n",
      "after 2200 batch      train loss: 2.7196\n",
      "after 2400 batch      train loss: 2.7177\n",
      "after 2600 batch      train loss: 2.7108\n",
      "after 2800 batch      train loss: 2.7549\n",
      "after 3000 batch      train loss: 2.7428\n",
      "after 3200 batch      train loss: 2.7137\n",
      "after 3400 batch      train loss: 2.7355\n",
      "after 3600 batch      train loss: 2.6734\n",
      "after 3800 batch      train loss: 2.7649\n",
      "\n",
      "Epoch  2 ---------------------------------- \n",
      "\n",
      "after    0 batch      train loss: 2.7503\n",
      "after  200 batch      train loss: 2.6047\n",
      "after  400 batch      train loss: 2.5983\n",
      "after  600 batch      train loss: 2.7140\n",
      "after  800 batch      train loss: 2.7536\n",
      "after 1000 batch      train loss: 2.7372\n",
      "after 1200 batch      train loss: 2.7586\n",
      "after 1400 batch      train loss: 2.6842\n",
      "after 1600 batch      train loss: 2.6826\n",
      "after 1800 batch      train loss: 2.7868\n",
      "after 2000 batch      train loss: 2.6689\n",
      "after 2200 batch      train loss: 2.6882\n",
      "after 2400 batch      train loss: 2.7717\n",
      "after 2600 batch      train loss: 2.7394\n",
      "after 2800 batch      train loss: 2.6960\n",
      "after 3000 batch      train loss: 2.7082\n",
      "after 3200 batch      train loss: 2.6598\n",
      "after 3400 batch      train loss: 2.7252\n",
      "after 3600 batch      train loss: 2.7463\n",
      "after 3800 batch      train loss: 2.7649\n",
      "\n",
      " ~~~~~ training is done ~~~~~\n",
      " \n",
      "CPU times: total: 1h 8min 38s\n",
      "Wall time: 12min 24s\n"
     ]
    }
   ],
   "source": [
    "%%time\n",
    "\n",
    "                        \n",
    "model = INN(dims=dims, Ls=Ls).to(device)                                   # start the QML model instance\n",
    "optimizer = torch.optim.Adam(model.parameters(), lr=lr, betas=(b1, b2))    # define optimizer for the model\n",
    "loss_fn = nn.CrossEntropyLoss()                                            # define loss functions for the model\n",
    "\n",
    "\n",
    "\n",
    "#~~~~~~~~~~~~~~~~~~~~~~~~~~~~~~~~~~~~~~~~~~~~~~~~~~~~~~~~~~~~~~~~~~~~~~~~~~~~~~~~~~~~~~~\n",
    "Train_Loss = []\n",
    "for t in range(epochs):\n",
    "    print()\n",
    "    print(f\"Epoch {t:2d} ---------------------------------- \\n\")\n",
    "    for batch_idx, (X, y) in enumerate(train_dataloader):\n",
    "\n",
    "        X, y = X.to(device), y.to(device) \n",
    "        \n",
    "        out = model(X)                            # Perform a single forward pass through the model\n",
    "        loss = loss_fn(out, y)\n",
    "   \n",
    "        model.zero_grad()                         # Clear gradients \n",
    "        loss.backward(retain_graph=True)          # Derive gradients, backpropagation \n",
    "        optimizer.step()                          # Update parameters of the model based on gradients\n",
    "\n",
    "        #-------------------------------------------------------------------------------\n",
    "        \n",
    "        if batch_idx % 200 == 0: \n",
    "            print(f'after {batch_idx:4d} batch      train loss: {loss:.4f}') \n",
    "            Train_Loss.append(loss.detach().item())\n",
    "            \n",
    "                                      \n",
    "#~~~~~~~~~~~~~~~~~~~~~~~~~~~~~~~~~~~~~~~~~~~~~~~~~~~~~~~~~~~~~~~~~~~~~~~~~~~~~~~~~~~~~~~\n",
    "        \n",
    "        \n",
    "print(f'\\n ~~~~~ training is done ~~~~~\\n ')"
   ]
  },
  {
   "cell_type": "code",
   "execution_count": 9,
   "metadata": {},
   "outputs": [
    {
     "data": {
      "image/png": "[encoded data removed]",
      "text/plain": [
       "<Figure size 640x480 with 1 Axes>"
      ]
     },
     "metadata": {},
     "output_type": "display_data"
    }
   ],
   "source": [
    "plt.plot(Train_Loss, label='train set')\n",
    "plt.ylabel('loss on training set',fontsize=15)\n",
    "plt.xlabel('training steps',fontsize=15)\n",
    "plt.yticks(fontsize=13)\n",
    "plt.xticks(fontsize=13)\n",
    "plt.show()"
   ]
  },
  {
   "cell_type": "markdown",
   "metadata": {},
   "source": [
    "Performance Test"
   ]
  },
  {
   "cell_type": "code",
   "execution_count": 12,
   "metadata": {},
   "outputs": [
    {
     "name": "stdout",
     "output_type": "stream",
     "text": [
      "              precision    recall  f1-score   support\n",
      "\n",
      "           1       0.60      0.57      0.58      4800\n",
      "           2       0.76      0.76      0.76      4800\n",
      "           3       0.74      0.73      0.73      4800\n",
      "           4       0.55      0.72      0.63      4800\n",
      "           5       0.64      0.76      0.70      4800\n",
      "           6       0.68      0.74      0.71      4800\n",
      "           7       0.52      0.53      0.53      4800\n",
      "           8       0.79      0.68      0.73      4800\n",
      "           9       0.47      0.49      0.48      4800\n",
      "          10       0.73      0.62      0.67      4800\n",
      "          11       0.67      0.75      0.71      4800\n",
      "          12       0.48      0.42      0.45      4800\n",
      "          13       0.87      0.87      0.87      4800\n",
      "          14       0.56      0.71      0.63      4800\n",
      "          15       0.77      0.88      0.82      4800\n",
      "          16       0.81      0.78      0.79      4800\n",
      "          17       0.62      0.50      0.55      4800\n",
      "          18       0.58      0.69      0.63      4800\n",
      "          19       0.90      0.81      0.85      4800\n",
      "          20       0.74      0.61      0.67      4800\n",
      "          21       0.68      0.70      0.69      4800\n",
      "          22       0.82      0.78      0.80      4800\n",
      "          23       0.85      0.85      0.85      4800\n",
      "          24       0.91      0.68      0.78      4800\n",
      "          25       0.79      0.72      0.75      4800\n",
      "          26       0.86      0.83      0.84      4800\n",
      "\n",
      "    accuracy                           0.70    124800\n",
      "   macro avg       0.71      0.70      0.70    124800\n",
      "weighted avg       0.71      0.70      0.70    124800\n",
      "\n",
      "[[2739   24   97  216  116   77  100  110    4   15   43    4   39  491\n",
      "   205   23  215   54    4   11   65    3   38    7    3   97]\n",
      " [  43 3667   50  339   29    6  163  115   31   24   19    9   27   58\n",
      "    63   21    7   13   31    8   16    5   13    1    6   36]\n",
      " [  51    3 3481   17  861   20   39    3    2    8   26    6    0   13\n",
      "    83   26   44   79    7    2   11    1    8    0    0    9]\n",
      " [  59  143   14 3468   23    5   15   17   33  100   57   38    4   36\n",
      "   372   28    3    5    0    6  299   21   12    2    4   36]\n",
      " [  61   50  466    9 3663   74   37    4    4    5   39    3    3   32\n",
      "    31   15   11  171   41   28    8    3    9    0    0   33]\n",
      " [  16    6   10   12   34 3540   99   17   49   42   11   13    2   20\n",
      "     1  379   37  206    5  261    1    4    8    2   20    5]\n",
      " [ 155  188   72  111   21   93 2565   10   12  117   16    0   37   43\n",
      "    68   51  952   37  117   28   42    6   17    3   35    4]\n",
      " [ 222   84    4  145   15   25    6 3240   56   12  203   64   43  434\n",
      "     2    4    0   68    4   21   73   20   22   18   12    3]\n",
      " [   3   22    3   11    8   38   45   10 2344  168   16 1766    2    4\n",
      "     0   10    2   34   10   31   15   14    1   38   42  163]\n",
      " [   8   54    6  973   10   42   54   12  188 2971    2   20    4    9\n",
      "     5   10    1    9   63  170  123    8    2    3   20   33]\n",
      " [  51   64   25   25  185    6    4  206   10    3 3608   39   18   83\n",
      "     0    2    0  294    5    8   27   36   22   63    6   10]\n",
      " [   9   89  216   83  109   16    2   25 1840   34  114 2018    0    1\n",
      "     3    1    1   20    0   11   17   33    8   12   72   66]\n",
      " [  42    1    1    1    9    0    2    1    0    0    2    0 4168  490\n",
      "     3    1    5    9    2   12    8    3   23    6    6    5]\n",
      " [ 212    4    6   51   16    4    4   63    3    3  138   11  284 3421\n",
      "    34    9   18   93    4    4  160   25  144   46   17   26]\n",
      " [  55   12   81  130    4    1   58    1    4    5    1    0    4  111\n",
      "  4214    7   35   16    1    3   44    8    5    0    0    0]\n",
      " [  52    1    5    2   17  425   11    6    4    3    5    5    1   68\n",
      "    43 3731   49  247    0   38   29    3   20    3   32    0]\n",
      " [ 170   20   75   56   25  154 1230    4   17   15   48   10   11   46\n",
      "   194   95 2409   27   27   23   47    9   50    5   26    7]\n",
      " [ 102   14   30    2  200  120   11   46    6    4  319    3    5  193\n",
      "     2  162   71 3292    0   74    3   14   15   12   70   30]\n",
      " [  14  141   32   51   21   18  280    3   35  205   15    3    3   12\n",
      "    36    0    1   25 3868   11    9    4    3    0    3    7]\n",
      " [  28   87   13   33  184  497   61   55  116   68   27  128    3    0\n",
      "     1    6    5  357   13 2946    3   12    0    5  124   28]\n",
      " [ 379    3   14  277   31    0    5   10    3   16   61    6   13  105\n",
      "    91    2    7   12    0    1 3365  147  237    1    2   12]\n",
      " [   2    0    0   28   17    1    2    7    5    5   15   10   10   52\n",
      "     1    8    2  311    3    6  369 3724   50   10  161    1]\n",
      " [  16   14    0   61   11    2    1   23    1    0   24    2   58  210\n",
      "     2    3    0   31    4    5  183   42 4099    3    3    2]\n",
      " [  52   35    3   19   13   10   14   98   47   21  559   19   14   45\n",
      "     0    0    4   66   63   39    7   89    7 3255  266   55]\n",
      " [  25    7    2   55    8   33   30   15  141  137   12   33   26   60\n",
      "     2   20    6  146   16   97   41  309   13   85 3479    2]\n",
      " [  23   74   23  112   97   34   60    6   39   74   19    6   10   30\n",
      "     3   12    6   23   10  116   14    2    2    5   10 3990]] = confusion matrix on train set\n",
      "average f1_score on train set = 0.70\n",
      "loss on train set = 2.711\n",
      "              precision    recall  f1-score   support\n",
      "\n",
      "           1       0.60      0.59      0.59       800\n",
      "           2       0.77      0.78      0.78       800\n",
      "           3       0.74      0.70      0.72       800\n",
      "           4       0.56      0.71      0.62       800\n",
      "           5       0.63      0.77      0.69       800\n",
      "           6       0.66      0.70      0.68       800\n",
      "           7       0.52      0.53      0.53       800\n",
      "           8       0.78      0.63      0.70       800\n",
      "           9       0.49      0.51      0.50       800\n",
      "          10       0.72      0.58      0.64       800\n",
      "          11       0.63      0.72      0.67       800\n",
      "          12       0.50      0.46      0.48       800\n",
      "          13       0.86      0.87      0.87       800\n",
      "          14       0.56      0.69      0.62       800\n",
      "          15       0.79      0.88      0.83       800\n",
      "          16       0.79      0.78      0.79       800\n",
      "          17       0.61      0.48      0.53       800\n",
      "          18       0.56      0.68      0.61       800\n",
      "          19       0.89      0.80      0.84       800\n",
      "          20       0.73      0.62      0.67       800\n",
      "          21       0.67      0.71      0.69       800\n",
      "          22       0.80      0.78      0.79       800\n",
      "          23       0.85      0.86      0.85       800\n",
      "          24       0.88      0.65      0.75       800\n",
      "          25       0.77      0.72      0.74       800\n",
      "          26       0.85      0.83      0.84       800\n",
      "\n",
      "    accuracy                           0.69     20800\n",
      "   macro avg       0.70      0.69      0.69     20800\n",
      "weighted avg       0.70      0.69      0.69     20800\n",
      "\n",
      "[[469   4  18  30  21  12  18  17   0   4   8   0   3  79  27   3  36   8\n",
      "    1   2  14   1   3   0   1  21]\n",
      " [  8 622   6  56   6   3  21  26   6   3   3   2   1  10   6   3   1   1\n",
      "    3   0   2   0   1   0   0  10]\n",
      " [  8   1 557   3 157   0   8   0   1   0  10   1   0   2  13   4  11  13\n",
      "    2   0   2   2   3   0   0   2]\n",
      " [ 15  24   5 568   7   1   3   3   4   9  11   7   1   9  77   6   2   1\n",
      "    0   1  36   2   2   0   1   5]\n",
      " [ 10  11  68   1 612   8   6   1   0   3   5   1   0  11   4   5   3  35\n",
      "    6   3   1   0   1   0   0   5]\n",
      " [  1   1   1   3  13 563  16   1  13   9   1   4   0   1   0  74   5  44\n",
      "    1  44   1   0   0   0   2   2]\n",
      " [ 34  30  23  13   7  14 423   2   2  23   2   0   4   6   9   8 156   4\n",
      "   27   1   2   1   3   2   3   1]\n",
      " [ 47  17   2  28   1   6   1 505   9   3  35   9  13  67   1   1   0  17\n",
      "    0   3  15   6   9   4   1   0]\n",
      " [  0   2   0   4   1   4   5   2 407  26   3 287   0   1   0   2   0   6\n",
      "    3   4   3   1   0   7   9  23]\n",
      " [  1   9   0 170   1   3  12   2  30 466   0   6   0   0   1   3   0   1\n",
      "   14  40  22   2   0   0   5  12]\n",
      " [  5  12   5   8  32   0   1  35   4   1 576  11   2  14   0   2   0  57\n",
      "    0   3   4  12   2   8   2   4]\n",
      " [  2  11  31  10  19   8   0   0 271   6  28 364   0   0   0   0   1   7\n",
      "    0   1   2  11   2   2  11  13]\n",
      " [  2   0   0   0   0   0   1   2   0   0   1   0 696  81   1   0   1   2\n",
      "    0   4   2   0   4   2   1   0]\n",
      " [ 38   0   1  12   1   0   1   9   1   0  35   1  49 554   1   1   0  17\n",
      "    0   4  35   9  19   7   1   4]\n",
      " [  7   2   9  21   0   2   8   0   0   3   0   0   1  22 706   2   6   2\n",
      "    0   1   8   0   0   0   0   0]\n",
      " [  4   0   0   2   5  68   2   1   1   0   1   1   0  11   3 622   9  47\n",
      "    0   6   6   0   4   0   7   0]\n",
      " [ 39   2  11   5   5  37 198   1   8   6   6   4   1   5  25  18 382   7\n",
      "    5   3   7   0  16   2   5   2]\n",
      " [ 17   1   5   1  34  26   2   6   2   0  50   2   5  26   0  20  14 543\n",
      "    0  19   1   6   2   1  14   3]\n",
      " [  3  17   6   5   2   1  47   2   9  37   2   0   0   5   8   0   0   8\n",
      "  640   3   1   0   2   0   0   2]\n",
      " [  4  14   1   5  24  86   9  12  21   9   6  14   0   2   3   3   0  57\n",
      "    4 497   2   0   0   4  20   3]\n",
      " [ 59   0   2  43   5   0   2   2   0   1  12   0   1  20  11   0   0   2\n",
      "    1   0 569  29  39   1   0   1]\n",
      " [  0   0   0   3   1   0   0   2   1   1   4   1   1   9   0   2   0  48\n",
      "    0   3  59 626   7   5  26   1]\n",
      " [  2   1   0   8   0   1   0   1   0   0   5   0  16  30   1   0   0   7\n",
      "    0   0  37   2 686   3   0   0]\n",
      " [  5   3   1   3   4   2   2  12  10   2 104   2   2  14   0   0   0  14\n",
      "    8   5   2  16   1 523  59   6]\n",
      " [  2   4   0   8   2   5  10   3  22  24   0   5   6  11   0   3   0  18\n",
      "    5  17   7  53   1  21 573   0]\n",
      " [  4  15   2   8  15   3  11   3  13  10  10   4   4   0   0   1   2   8\n",
      "    0  20   3   0   0   0   1 663]] = confusion matrix on test set\n",
      "average f1_score on test set = 0.69\n",
      "loss on test set = 2.716\n"
     ]
    }
   ],
   "source": [
    "def probabilities(dataloader, model):\n",
    "    model.eval()\n",
    "    with torch.no_grad():\n",
    "        ys, probs = torch.tensor([]), torch.tensor([]) \n",
    "        for X, y in dataloader:\n",
    "            X, y = X.to(device), y.to(device)\n",
    "            ys = torch.cat((ys, y), 0)\n",
    "            \n",
    "            prob = model(X)\n",
    "            probs = torch.cat((probs, prob), 0)\n",
    "    return ys, probs\n",
    "\n",
    "\n",
    "\n",
    "def performance_estimate(y, prob, dataset_name):\n",
    "    '''With a model, this function computes loss and other metrics on the training or test set'''\n",
    "    y = y.to(torch.int64)\n",
    "    loss = loss_fn(prob, y).item()\n",
    "    \n",
    "    prob = F.softmax(prob, dim=-1)                              # to make individual probabilities add to one\n",
    "    #au_roc = roc_auc_score(y, prob, multi_class='ovr')\n",
    "    \n",
    "            \n",
    "    y_pred = prob.argmax(1)\n",
    "    f1 = f1_score(y, y_pred, average='macro')\n",
    "            \n",
    "    print(classification_report(y, y_pred))\n",
    "    print(confusion_matrix(y, y_pred), f\"= confusion matrix on {dataset_name} set\")\n",
    "    \n",
    "    print(f\"average f1_score on {dataset_name} set = {f1:.2f}\")\n",
    "    print(f\"loss on {dataset_name} set = {loss:.3f}\")\n",
    "    #print(f\"roc_auc_score on {dataset_name} set = {au_roc:.2f} \\n\")\n",
    "    \n",
    "    return\n",
    "\n",
    "#==================================================================================================\n",
    "\n",
    "\n",
    "y_train, prob_train = probabilities(train_dataloader, model)\n",
    "performance_estimate(y_train, prob_train, 'train')\n",
    "\n",
    "y_test, prob_test = probabilities(test_dataloader, model)\n",
    "performance_estimate(y_test, prob_test, 'test')"
   ]
  },
  {
   "cell_type": "markdown",
   "metadata": {},
   "source": [
    "Predict"
   ]
  },
  {
   "cell_type": "code",
   "execution_count": 11,
   "metadata": {},
   "outputs": [
    {
     "name": "stdout",
     "output_type": "stream",
     "text": [
      "x of torch.Size([1, 28, 28]) :\n"
     ]
    },
    {
     "data": {
      "image/png": "[encoded data removed]",
      "text/plain": [
       "<Figure size 640x480 with 1 Axes>"
      ]
     },
     "metadata": {},
     "output_type": "display_data"
    },
    {
     "name": "stdout",
     "output_type": "stream",
     "text": [
      "true label = y = 14\n",
      "\n",
      "predicted label = 14\n",
      "\n"
     ]
    },
    {
     "data": {
      "image/png": "[encoded data removed]",
      "text/plain": [
       "<Figure size 640x480 with 1 Axes>"
      ]
     },
     "metadata": {},
     "output_type": "display_data"
    },
    {
     "name": "stdout",
     "output_type": "stream",
     "text": [
      "The individual probabilities do not necessarily add to one: their sum = 3.597\n",
      "loss = 2.5955\n"
     ]
    },
    {
     "data": {
      "text/plain": [
       "True"
      ]
     },
     "execution_count": 11,
     "metadata": {},
     "output_type": "execute_result"
    }
   ],
   "source": [
    "idx = np.random.choice(len(test_dataset))\n",
    "\n",
    "x = test_dataset[idx][0]\n",
    "print(f'x of {x.shape} :')\n",
    "plt.imshow(x[0], cmap='gray')\n",
    "plt.show()\n",
    "\n",
    "y_ = test_dataset[idx][1]\n",
    "print(f'true label = y = {y_}\\n')\n",
    "\n",
    "\n",
    "prob = model(x[0]).detach().flatten()\n",
    "#prob = F.softmax(prob, dim=-1)                      # to make individual probabilities add to one\n",
    "pred = prob.argmax().item()\n",
    "print(f'predicted label = {pred}\\n')\n",
    "\n",
    "plt.stem(classes, prob)\n",
    "plt.ylabel('individual probabilities')\n",
    "plt.xlabel('class labels')\n",
    "plt.xticks(classes)\n",
    "plt.show()\n",
    "\n",
    "\n",
    "print(f'The individual probabilities do not necessarily add to one: their sum = {round(torch.sum(prob).item(),3)}')\n",
    "print(f'loss = {round(-torch.log(F.softmax(prob, dim=-1)[y_]).item(), 4)}')\n",
    "\n",
    "total_params = sum(p.numel() for p in model.parameters() if p.requires_grad)\n",
    "total_params == num_phases"
   ]
  }
 ],
 "metadata": {
  "kernelspec": {
   "display_name": "base",
   "language": "python",
   "name": "python3"
  },
  "language_info": {
   "codemirror_mode": {
    "name": "ipython",
    "version": 3
   },
   "file_extension": ".py",
   "mimetype": "text/x-python",
   "name": "python",
   "nbconvert_exporter": "python",
   "pygments_lexer": "ipython3",
   "version": "3.8.12"
  }
 },
 "nbformat": 4,
 "nbformat_minor": 2
}
